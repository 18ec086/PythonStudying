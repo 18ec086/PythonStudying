{
 "cells": [
  {
   "cell_type": "code",
   "execution_count": 17,
   "metadata": {},
   "outputs": [
    {
     "name": "stdout",
     "output_type": "stream",
     "text": [
      "時間:4.0, 分:15.0, 秒:46.12746453285217, 経過日数:18428.0\n"
     ]
    }
   ],
   "source": [
    "import time\n",
    "d= time.time()\n",
    "seconds=d%60\n",
    "minutes=(d//60)%60\n",
    "hours=(d//3600)%24\n",
    "days=d//(3600*24)\n",
    "print(\"時間:\"+str(hours)+\", 分:\"+str(minutes)+\", 秒:\"+str(seconds)+\", 経過日数:\"+str(days))"
   ]
  },
  {
   "cell_type": "code",
   "execution_count": null,
   "metadata": {},
   "outputs": [],
   "source": []
  },
  {
   "cell_type": "code",
   "execution_count": null,
   "metadata": {},
   "outputs": [],
   "source": [
    "def check_fermat(a,b,c,n):\n",
    "    if n>2 and (a**n+b**n==c*n):\n",
    "         print(\"Holy smokes,Fermat was wrong!\")\n",
    "    else:\n",
    "        print(\"No,that doesn't work\")\n",
    "            \n",
    "check_fermat(2,3,4,5)\n",
    "print(\"aaa\")"
   ]
  },
  {
   "cell_type": "code",
   "execution_count": null,
   "metadata": {},
   "outputs": [],
   "source": []
  },
  {
   "cell_type": "code",
   "execution_count": null,
   "metadata": {},
   "outputs": [],
   "source": []
  }
 ],
 "metadata": {
  "kernelspec": {
   "display_name": "Python 3",
   "language": "python",
   "name": "python3"
  },
  "language_info": {
   "codemirror_mode": {
    "name": "ipython",
    "version": 3
   },
   "file_extension": ".py",
   "mimetype": "text/x-python",
   "name": "python",
   "nbconvert_exporter": "python",
   "pygments_lexer": "ipython3",
   "version": "3.7.6"
  }
 },
 "nbformat": 4,
 "nbformat_minor": 4
}
